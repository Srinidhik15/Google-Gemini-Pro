{
 "cells": [
  {
   "cell_type": "markdown",
   "metadata": {},
   "source": [
    "### Gemini API-Quickstart Python"
   ]
  },
  {
   "cell_type": "code",
   "execution_count": null,
   "metadata": {},
   "outputs": [],
   "source": [
    "# pip install -q -U google-generativeai"
   ]
  },
  {
   "cell_type": "code",
   "execution_count": 2,
   "metadata": {},
   "outputs": [],
   "source": [
    "import google.generativeai as genai\n",
    "import os\n",
    "\n",
    "genai.configure(api_key=os.environ[\"GOOGLE_API_KEY\"])"
   ]
  },
  {
   "cell_type": "code",
   "execution_count": 4,
   "metadata": {},
   "outputs": [
    {
     "name": "stdout",
     "output_type": "stream",
     "text": [
      "response:\n",
      "GenerateContentResponse(\n",
      "    done=True,\n",
      "    iterator=None,\n",
      "    result=protos.GenerateContentResponse({\n",
      "      \"candidates\": [\n",
      "        {\n",
      "          \"content\": {\n",
      "            \"parts\": [\n",
      "              {\n",
      "                \"text\": \"Elara, a girl with hair the color of spun moonlight and eyes like polished emeralds, wasn't your average adventurer. She didn't seek gold or glory, but knowledge. And for that, she needed something special: a magic backpack.\\n\\nHer grandmother, a wizened woman who whispered tales of forgotten kingdoms, had gifted it to her. It was a plain brown canvas, worn and patched, yet when Elara slipped it on, she felt a hum of energy, a promise of adventure.\\n\\nThe first time she used it, she was trekking through a dense forest, searching for the elusive Whispering Pines. The legend said they held the secrets of the ancient language of the birds. As she trudged, she wished she could understand their chirps and trills. \\n\\nThen, her backpack felt lighter, almost buoyant. Reaching inside, Elara pulled out a feather, delicate and iridescent. It pulsed with a soft blue light, and as she held it, she felt a surge of understanding. Suddenly, the bird song was no longer a cacophony, but a symphony of language. The Whispering Pines revealed their secrets.\\n\\nElara's travels became a whirlwind. She climbed snow-capped mountains to pluck snowflakes that whispered stories of forgotten kingdoms, descended into a cave to retrieve a spiderweb spun from moonlight, and sailed on a river of fire to grab a pebble that glowed with the warmth of the sun.\\n\\nBut with each wondrous object, she also faced challenges.  A mischievous goblin stole the snowflake, a giant spider guarded the moonweb, and a fiery dragon threatened to burn the sun pebble. Each time, her backpack surprised her. It provided her with the tools she needed \\u2013 a net to catch the goblin, a silken thread to appease the spider, and a shield forged from the starlight to deflect the dragon's flames.\\n\\nThe backpack wasn't just a container for magical objects. It was a friend, a guide, a mirror to her own courage and determination. It taught her to trust her instincts, to embrace the unknown, and most importantly, to use her knowledge for good.\\n\\nOne day, Elara came across a village plagued by a drought. The crops withered, the wells ran dry, and the people despaired. She remembered the sun pebble, its warmth radiating with hope. But to use its power, she needed to find a way to channel it to the village.\\n\\nThe backpack hummed again, whispering a solution. It revealed a hidden spring beneath the village, its water stagnant and cold. Elara understood. The sun pebble, with its warmth and light, could awaken the spring, bring life back to the village.\\n\\nShe placed the sun pebble near the spring, and as its light touched the water, a magical current flowed through the village. The wells gushed with life, the fields bloomed again, and laughter echoed through the once-desolate streets.\\n\\nElara, the girl with the magic backpack, had saved the village. She learned that the true magic wasn't just in the objects, but in the heart that used them. And she knew, as she walked on, that the adventures, and the magic, were only just beginning. \\n\"\n",
      "              }\n",
      "            ],\n",
      "            \"role\": \"model\"\n",
      "          },\n",
      "          \"finish_reason\": \"STOP\",\n",
      "          \"index\": 0,\n",
      "          \"safety_ratings\": [\n",
      "            {\n",
      "              \"category\": \"HARM_CATEGORY_SEXUALLY_EXPLICIT\",\n",
      "              \"probability\": \"NEGLIGIBLE\"\n",
      "            },\n",
      "            {\n",
      "              \"category\": \"HARM_CATEGORY_HATE_SPEECH\",\n",
      "              \"probability\": \"NEGLIGIBLE\"\n",
      "            },\n",
      "            {\n",
      "              \"category\": \"HARM_CATEGORY_HARASSMENT\",\n",
      "              \"probability\": \"NEGLIGIBLE\"\n",
      "            },\n",
      "            {\n",
      "              \"category\": \"HARM_CATEGORY_DANGEROUS_CONTENT\",\n",
      "              \"probability\": \"NEGLIGIBLE\"\n",
      "            }\n",
      "          ]\n",
      "        }\n",
      "      ],\n",
      "      \"usage_metadata\": {\n",
      "        \"prompt_token_count\": 9,\n",
      "        \"candidates_token_count\": 656,\n",
      "        \"total_token_count\": 665\n",
      "      }\n",
      "    }),\n",
      ")\n"
     ]
    }
   ],
   "source": [
    "model = genai.GenerativeModel(\"gemini-1.5-flash\")\n",
    "response = model.generate_content(\"Write a story about a magic backpack.\")\n",
    "print(response)"
   ]
  },
  {
   "cell_type": "code",
   "execution_count": 5,
   "metadata": {},
   "outputs": [
    {
     "name": "stdout",
     "output_type": "stream",
     "text": [
      "Elara, a girl with hair the color of spun moonlight and eyes like polished emeralds, wasn't your average adventurer. She didn't seek gold or glory, but knowledge. And for that, she needed something special: a magic backpack.\n",
      "\n",
      "Her grandmother, a wizened woman who whispered tales of forgotten kingdoms, had gifted it to her. It was a plain brown canvas, worn and patched, yet when Elara slipped it on, she felt a hum of energy, a promise of adventure.\n",
      "\n",
      "The first time she used it, she was trekking through a dense forest, searching for the elusive Whispering Pines. The legend said they held the secrets of the ancient language of the birds. As she trudged, she wished she could understand their chirps and trills. \n",
      "\n",
      "Then, her backpack felt lighter, almost buoyant. Reaching inside, Elara pulled out a feather, delicate and iridescent. It pulsed with a soft blue light, and as she held it, she felt a surge of understanding. Suddenly, the bird song was no longer a cacophony, but a symphony of language. The Whispering Pines revealed their secrets.\n",
      "\n",
      "Elara's travels became a whirlwind. She climbed snow-capped mountains to pluck snowflakes that whispered stories of forgotten kingdoms, descended into a cave to retrieve a spiderweb spun from moonlight, and sailed on a river of fire to grab a pebble that glowed with the warmth of the sun.\n",
      "\n",
      "But with each wondrous object, she also faced challenges.  A mischievous goblin stole the snowflake, a giant spider guarded the moonweb, and a fiery dragon threatened to burn the sun pebble. Each time, her backpack surprised her. It provided her with the tools she needed – a net to catch the goblin, a silken thread to appease the spider, and a shield forged from the starlight to deflect the dragon's flames.\n",
      "\n",
      "The backpack wasn't just a container for magical objects. It was a friend, a guide, a mirror to her own courage and determination. It taught her to trust her instincts, to embrace the unknown, and most importantly, to use her knowledge for good.\n",
      "\n",
      "One day, Elara came across a village plagued by a drought. The crops withered, the wells ran dry, and the people despaired. She remembered the sun pebble, its warmth radiating with hope. But to use its power, she needed to find a way to channel it to the village.\n",
      "\n",
      "The backpack hummed again, whispering a solution. It revealed a hidden spring beneath the village, its water stagnant and cold. Elara understood. The sun pebble, with its warmth and light, could awaken the spring, bring life back to the village.\n",
      "\n",
      "She placed the sun pebble near the spring, and as its light touched the water, a magical current flowed through the village. The wells gushed with life, the fields bloomed again, and laughter echoed through the once-desolate streets.\n",
      "\n",
      "Elara, the girl with the magic backpack, had saved the village. She learned that the true magic wasn't just in the objects, but in the heart that used them. And she knew, as she walked on, that the adventures, and the magic, were only just beginning. \n",
      "\n"
     ]
    }
   ],
   "source": [
    "print(response.text)"
   ]
  },
  {
   "cell_type": "code",
   "execution_count": 7,
   "metadata": {},
   "outputs": [
    {
     "data": {
      "text/plain": [
       "[index: 0\n",
       "content {\n",
       "  parts {\n",
       "    text: \"Elara, a girl with hair the color of spun moonlight and eyes like polished emeralds, wasn\\'t your average adventurer. She didn\\'t seek gold or glory, but knowledge. And for that, she needed something special: a magic backpack.\\n\\nHer grandmother, a wizened woman who whispered tales of forgotten kingdoms, had gifted it to her. It was a plain brown canvas, worn and patched, yet when Elara slipped it on, she felt a hum of energy, a promise of adventure.\\n\\nThe first time she used it, she was trekking through a dense forest, searching for the elusive Whispering Pines. The legend said they held the secrets of the ancient language of the birds. As she trudged, she wished she could understand their chirps and trills. \\n\\nThen, her backpack felt lighter, almost buoyant. Reaching inside, Elara pulled out a feather, delicate and iridescent. It pulsed with a soft blue light, and as she held it, she felt a surge of understanding. Suddenly, the bird song was no longer a cacophony, but a symphony of language. The Whispering Pines revealed their secrets.\\n\\nElara\\'s travels became a whirlwind. She climbed snow-capped mountains to pluck snowflakes that whispered stories of forgotten kingdoms, descended into a cave to retrieve a spiderweb spun from moonlight, and sailed on a river of fire to grab a pebble that glowed with the warmth of the sun.\\n\\nBut with each wondrous object, she also faced challenges.  A mischievous goblin stole the snowflake, a giant spider guarded the moonweb, and a fiery dragon threatened to burn the sun pebble. Each time, her backpack surprised her. It provided her with the tools she needed – a net to catch the goblin, a silken thread to appease the spider, and a shield forged from the starlight to deflect the dragon\\'s flames.\\n\\nThe backpack wasn\\'t just a container for magical objects. It was a friend, a guide, a mirror to her own courage and determination. It taught her to trust her instincts, to embrace the unknown, and most importantly, to use her knowledge for good.\\n\\nOne day, Elara came across a village plagued by a drought. The crops withered, the wells ran dry, and the people despaired. She remembered the sun pebble, its warmth radiating with hope. But to use its power, she needed to find a way to channel it to the village.\\n\\nThe backpack hummed again, whispering a solution. It revealed a hidden spring beneath the village, its water stagnant and cold. Elara understood. The sun pebble, with its warmth and light, could awaken the spring, bring life back to the village.\\n\\nShe placed the sun pebble near the spring, and as its light touched the water, a magical current flowed through the village. The wells gushed with life, the fields bloomed again, and laughter echoed through the once-desolate streets.\\n\\nElara, the girl with the magic backpack, had saved the village. She learned that the true magic wasn\\'t just in the objects, but in the heart that used them. And she knew, as she walked on, that the adventures, and the magic, were only just beginning. \\n\"\n",
       "  }\n",
       "  role: \"model\"\n",
       "}\n",
       "finish_reason: STOP\n",
       "safety_ratings {\n",
       "  category: HARM_CATEGORY_SEXUALLY_EXPLICIT\n",
       "  probability: NEGLIGIBLE\n",
       "}\n",
       "safety_ratings {\n",
       "  category: HARM_CATEGORY_HATE_SPEECH\n",
       "  probability: NEGLIGIBLE\n",
       "}\n",
       "safety_ratings {\n",
       "  category: HARM_CATEGORY_HARASSMENT\n",
       "  probability: NEGLIGIBLE\n",
       "}\n",
       "safety_ratings {\n",
       "  category: HARM_CATEGORY_DANGEROUS_CONTENT\n",
       "  probability: NEGLIGIBLE\n",
       "}\n",
       "]"
      ]
     },
     "execution_count": 7,
     "metadata": {},
     "output_type": "execute_result"
    }
   ],
   "source": [
    "response.candidates"
   ]
  }
 ],
 "metadata": {
  "kernelspec": {
   "display_name": "Python 3",
   "language": "python",
   "name": "python3"
  },
  "language_info": {
   "codemirror_mode": {
    "name": "ipython",
    "version": 3
   },
   "file_extension": ".py",
   "mimetype": "text/x-python",
   "name": "python",
   "nbconvert_exporter": "python",
   "pygments_lexer": "ipython3",
   "version": "3.9.0"
  }
 },
 "nbformat": 4,
 "nbformat_minor": 2
}
